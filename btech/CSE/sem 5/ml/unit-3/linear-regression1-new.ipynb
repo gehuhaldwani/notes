{
 "cells": [
  {
   "cell_type": "code",
   "execution_count": 1,
   "id": "870eb69e-3627-4b71-92ba-e6409b08f2fd",
   "metadata": {},
   "outputs": [
    {
     "name": "stdout",
     "output_type": "stream",
     "text": [
      "Mean Squared Error: 41386305.64021526\n",
      "R-squared Score: -0.37213108626171154\n",
      "Coefficient (w1): 10660.346975088973\n",
      "Intercept (w0): 23250.274911032015\n"
     ]
    }
   ],
   "source": [
    "# Import required libraries\n",
    "import numpy as np\n",
    "import pandas as pd\n",
    "from sklearn.model_selection import train_test_split\n",
    "from sklearn.linear_model import LinearRegression\n",
    "from sklearn.metrics import mean_squared_error, r2_score\n",
    "\n",
    "# Sample dataset\n",
    "# Feature: Years of Experience, Target: Salary\n",
    "data = {'YearsExperience': [1.1, 1.3, 1.5, 2.0, 2.2, 2.9, 3.0, 3.2, 3.2, 3.7],\n",
    "        'Salary': [39343, 46205, 37731, 43525, 39891, 56642, 60150, 54445, 57189, 63218]}\n",
    "\n",
    "df = pd.DataFrame(data)\n",
    "\n",
    "# Split data into features (X) and target (y)\n",
    "X = df[['YearsExperience']]  # Independent variable (input feature)\n",
    "y = df['Salary']  # Dependent variable (output)\n",
    "\n",
    "# Split the data into training and testing sets\n",
    "X_train, X_test, y_train, y_test = train_test_split(X, y, test_size=0.2, random_state=42)\n",
    "\n",
    "# Create a Linear Regression model\n",
    "model = LinearRegression()\n",
    "\n",
    "# Train the model on the training data\n",
    "model.fit(X_train, y_train)\n",
    "\n",
    "# Predict on the test data\n",
    "y_pred = model.predict(X_test)\n",
    "\n",
    "# Model Evaluation\n",
    "mse = mean_squared_error(y_test, y_pred)  # Mean Squared Error\n",
    "r2 = r2_score(y_test, y_pred)  # R-squared score\n",
    "\n",
    "# Print results\n",
    "print(f\"Mean Squared Error: {mse}\")\n",
    "print(f\"R-squared Score: {r2}\")\n",
    "\n",
    "# Print the coefficient and intercept\n",
    "print(f\"Coefficient (w1): {model.coef_[0]}\")\n",
    "print(f\"Intercept (w0): {model.intercept_}\")\n"
   ]
  },
  {
   "cell_type": "code",
   "execution_count": null,
   "id": "676cc73a-7633-47ff-8521-ff9fda1415fd",
   "metadata": {},
   "outputs": [],
   "source": []
  }
 ],
 "metadata": {
  "kernelspec": {
   "display_name": "Python 3 (ipykernel)",
   "language": "python",
   "name": "python3"
  },
  "language_info": {
   "codemirror_mode": {
    "name": "ipython",
    "version": 3
   },
   "file_extension": ".py",
   "mimetype": "text/x-python",
   "name": "python",
   "nbconvert_exporter": "python",
   "pygments_lexer": "ipython3",
   "version": "3.10.9"
  }
 },
 "nbformat": 4,
 "nbformat_minor": 5
}
