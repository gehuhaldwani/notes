{
  "nbformat": 4,
  "nbformat_minor": 0,
  "metadata": {
    "colab": {
      "provenance": []
    },
    "kernelspec": {
      "name": "python3",
      "display_name": "Python 3"
    },
    "language_info": {
      "name": "python"
    }
  },
  "cells": [
    {
      "cell_type": "code",
      "execution_count": 1,
      "metadata": {
        "colab": {
          "base_uri": "https://localhost:8080/"
        },
        "id": "2dqMhI4To8s0",
        "outputId": "25121728-914a-4f75-cd0c-8e74701b7f0c"
      },
      "outputs": [
        {
          "output_type": "stream",
          "name": "stdout",
          "text": [
            "Predicted class for the new input: [0]\n",
            "Predicted probabilities for each class: [[1. 0. 0.]]\n"
          ]
        }
      ],
      "source": [
        "import numpy as np\n",
        "from sklearn.model_selection import train_test_split\n",
        "from sklearn.neighbors import KNeighborsClassifier\n",
        "from sklearn.datasets import load_iris\n",
        "\n",
        "# Load the Iris dataset\n",
        "iris = load_iris()\n",
        "X = iris.data  # Features\n",
        "y = iris.target  # Labels\n",
        "\n",
        "# Split the dataset into training and testing sets\n",
        "X_train, X_test, y_train, y_test = train_test_split(X, y, test_size=0.3, random_state=42)\n",
        "\n",
        "# Initialize KNN model (with k=3 neighbors)\n",
        "knn = KNeighborsClassifier(n_neighbors=3)\n",
        "\n",
        "# Train the model\n",
        "knn.fit(X_train, y_train)\n",
        "\n",
        "# New data point for which you want to predict the outcome\n",
        "new_data = np.array([[5.0, 3.4, 1.5, 0.2]])\n",
        "\n",
        "# Predict the class of the new data point\n",
        "prediction = knn.predict(new_data)\n",
        "print(\"Predicted class for the new input:\", prediction)\n",
        "\n",
        "# Predict the probabilities for each class (optional)\n",
        "probabilities = knn.predict_proba(new_data)\n",
        "print(\"Predicted probabilities for each class:\", probabilities)\n"
      ]
    }
  ]
}