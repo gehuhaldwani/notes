{
 "cells": [
  {
   "cell_type": "code",
   "execution_count": null,
   "metadata": {
    "colab": {
     "base_uri": "https://localhost:8080/"
    },
    "id": "d4YH_r1Gs731",
    "outputId": "ba417976-a9d8-4dda-d77c-a43208218cfc"
   },
   "outputs": [
    {
     "name": "stdout",
     "output_type": "stream",
     "text": [
      "Downloading data from https://storage.googleapis.com/tensorflow/tf-keras-datasets/mnist.npz\n",
      "\u001b[1m11490434/11490434\u001b[0m \u001b[32m━━━━━━━━━━━━━━━━━━━━\u001b[0m\u001b[37m\u001b[0m \u001b[1m0s\u001b[0m 0us/step\n"
     ]
    },
    {
     "name": "stderr",
     "output_type": "stream",
     "text": [
      "/usr/local/lib/python3.10/dist-packages/keras/src/layers/convolutional/base_conv.py:107: UserWarning: Do not pass an `input_shape`/`input_dim` argument to a layer. When using Sequential models, prefer using an `Input(shape)` object as the first layer in the model instead.\n",
      "  super().__init__(activity_regularizer=activity_regularizer, **kwargs)\n"
     ]
    },
    {
     "name": "stdout",
     "output_type": "stream",
     "text": [
      "Epoch 1/5\n",
      "\u001b[1m938/938\u001b[0m \u001b[32m━━━━━━━━━━━━━━━━━━━━\u001b[0m\u001b[37m\u001b[0m \u001b[1m65s\u001b[0m 67ms/step - accuracy: 0.8794 - loss: 0.4084 - val_accuracy: 0.9803 - val_loss: 0.0622\n",
      "Epoch 2/5\n",
      "\u001b[1m619/938\u001b[0m \u001b[32m━━━━━━━━━━━━━\u001b[0m\u001b[37m━━━━━━━\u001b[0m \u001b[1m15s\u001b[0m 48ms/step - accuracy: 0.9802 - loss: 0.0660"
     ]
    }
   ],
   "source": [
    "import tensorflow as tf\n",
    "from tensorflow.keras import layers, models\n",
    "from tensorflow.keras.datasets import mnist\n",
    "from tensorflow.keras.utils import to_categorical\n",
    "\n",
    "# Load the dataset (for example, MNIST)\n",
    "(X_train, y_train), (X_test, y_test) = mnist.load_data()\n",
    "\n",
    "# Reshape the data to fit the CNN model (28x28 images, 1 channel)\n",
    "X_train = X_train.reshape(X_train.shape[0], 28, 28, 1).astype('float32') / 255\n",
    "X_test = X_test.reshape(X_test.shape[0], 28, 28, 1).astype('float32') / 255\n",
    "\n",
    "# One-hot encode the target variable\n",
    "y_train = to_categorical(y_train, 10)\n",
    "y_test = to_categorical(y_test, 10)\n",
    "\n",
    "# Build the CNN model\n",
    "model = models.Sequential()\n",
    "\n",
    "# Convolutional Layer (with 32 filters of size 3x3, ReLU activation)\n",
    "model.add(layers.Conv2D(32, (3, 3), activation='relu', input_shape=(28, 28, 1)))\n",
    "\n",
    "# Pooling Layer (Max Pooling)\n",
    "model.add(layers.MaxPooling2D((2, 2)))\n",
    "\n",
    "# Add another convolutional and pooling layer\n",
    "model.add(layers.Conv2D(64, (3, 3), activation='relu'))\n",
    "model.add(layers.MaxPooling2D((2, 2)))\n",
    "\n",
    "# Flatten the output to feed into the Fully Connected Layer\n",
    "model.add(layers.Flatten())\n",
    "\n",
    "# Fully Connected Layer (Dense Layer)\n",
    "model.add(layers.Dense(64, activation='relu'))\n",
    "\n",
    "# Output Layer (Softmax activation for classification)\n",
    "model.add(layers.Dense(10, activation='softmax'))\n",
    "\n",
    "# Compile the model\n",
    "model.compile(optimizer='adam', loss='categorical_crossentropy', metrics=['accuracy'])\n",
    "\n",
    "# Train the model\n",
    "model.fit(X_train, y_train, epochs=5, batch_size=64, validation_data=(X_test, y_test))\n",
    "\n",
    "# Evaluate the model\n",
    "test_loss, test_acc = model.evaluate(X_test, y_test)\n",
    "print('Test accuracy:', test_acc)\n"
   ]
  },
  {
   "cell_type": "code",
   "execution_count": null,
   "metadata": {
    "id": "UKzTewMqtITb"
   },
   "outputs": [],
   "source": [
    "Explanation of the Code:\n",
    "\n",
    "Loading Data: We load the MNIST dataset, which consists of grayscale images of digits (28x28 pixels).\n",
    "\n",
    "\n",
    "Preprocessing: The images are reshaped to match the input of the CNN (28x28x1), and the pixel values are normalized\n",
    " (by dividing by 255).\n",
    "\n",
    "One-Hot Encoding: The labels (digits) are one-hot encoded for multi-class classification.\n",
    "\n",
    "CNN Architecture:\n",
    "Conv2D layers: Extract spatial features from the images.\n",
    "\n",
    "MaxPooling2D layers: Downsample the feature maps.\n",
    "\n",
    "Flatten layer: Converts the 2D feature maps into a 1D vector to feed into the dense layers.\n",
    "\n",
    "Dense layers: Perform classification.\n",
    "\n",
    "Softmax layer: Outputs probabilities for each class.\n",
    "\n",
    "Compilation and Training: The model is compiled with the Adam optimizer, and categorical cross-entropy is used\n",
    " as the loss function.\n",
    "Evaluation: The test accuracy is printed after evaluating the model.\n",
    "\n",
    "Key CNN Concepts:\n",
    "Convolution: Sliding a filter over the input to extract features.\n",
    "\n",
    "Pooling: Reduces dimensionality and retains important information.\n",
    "\n",
    "Activation (ReLU): Introduces non-linearity.\n",
    "\n",
    "Softmax: Used for multi-class classification tasks to output probabilities.\n",
    "\n",
    "This code can be adapted to work with any image dataset by changing the input shape, number of classes,\n",
    "and other hyperparameters."
   ]
  }
 ],
 "metadata": {
  "colab": {
   "provenance": []
  },
  "kernelspec": {
   "display_name": "Python 3 (ipykernel)",
   "language": "python",
   "name": "python3"
  },
  "language_info": {
   "codemirror_mode": {
    "name": "ipython",
    "version": 3
   },
   "file_extension": ".py",
   "mimetype": "text/x-python",
   "name": "python",
   "nbconvert_exporter": "python",
   "pygments_lexer": "ipython3",
   "version": "3.10.9"
  }
 },
 "nbformat": 4,
 "nbformat_minor": 1
}
