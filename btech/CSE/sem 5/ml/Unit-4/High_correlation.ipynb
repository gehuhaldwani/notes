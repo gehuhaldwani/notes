{
  "nbformat": 4,
  "nbformat_minor": 0,
  "metadata": {
    "colab": {
      "provenance": []
    },
    "kernelspec": {
      "name": "python3",
      "display_name": "Python 3"
    },
    "language_info": {
      "name": "python"
    }
  },
  "cells": [
    {
      "cell_type": "code",
      "source": [
        "import pandas as pd\n",
        "import numpy as np  # Import numpy directly\n",
        "\n",
        "# Example DataFrame with sample data\n",
        "data = {\n",
        "    'A': [1, 2, 3, 4, 5],\n",
        "    'B': [2, 4, 6, 8, 10],\n",
        "    'C': [1, 2, 1, 2, 1],\n",
        "    'D': [10, 9, 4, 5, 3]\n",
        "}\n",
        "\n",
        "df = pd.DataFrame(data)\n",
        "\n",
        "# Set the correlation threshold\n",
        "threshold = 0.8\n",
        "\n",
        "# Calculate the correlation matrix\n",
        "corr_matrix = df.corr().abs()\n",
        "\n",
        "# Select upper triangle of correlation matrix\n",
        "upper_tri = corr_matrix.where(np.triu(np.ones(corr_matrix.shape), k=1).astype(bool))\n",
        "\n",
        "# Find columns with correlation above threshold\n",
        "to_drop = [column for column in upper_tri.columns if any(upper_tri[column] > threshold)]\n",
        "\n",
        "# Drop the features with high correlation\n",
        "df_filtered = df.drop(columns=to_drop)\n",
        "\n",
        "print(\"Original DataFrame:\")\n",
        "print(df)\n",
        "print(\"\\nFiltered DataFrame:\")\n",
        "print(df_filtered)\n"
      ],
      "metadata": {
        "colab": {
          "base_uri": "https://localhost:8080/"
        },
        "id": "fB1KZ6tpLF8D",
        "outputId": "5e5451e0-6148-47de-901c-a3ee87592cc4"
      },
      "execution_count": 3,
      "outputs": [
        {
          "output_type": "stream",
          "name": "stdout",
          "text": [
            "Original DataFrame:\n",
            "   A   B  C   D\n",
            "0  1   2  1  10\n",
            "1  2   4  2   9\n",
            "2  3   6  1   4\n",
            "3  4   8  2   5\n",
            "4  5  10  1   3\n",
            "\n",
            "Filtered DataFrame:\n",
            "   A  C\n",
            "0  1  1\n",
            "1  2  2\n",
            "2  3  1\n",
            "3  4  2\n",
            "4  5  1\n"
          ]
        }
      ]
    },
    {
      "cell_type": "code",
      "source": [],
      "metadata": {
        "id": "jPle42J7LIMI"
      },
      "execution_count": null,
      "outputs": []
    }
  ]
}