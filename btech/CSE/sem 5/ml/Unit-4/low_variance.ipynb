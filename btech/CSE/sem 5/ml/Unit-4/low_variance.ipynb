{
  "nbformat": 4,
  "nbformat_minor": 0,
  "metadata": {
    "colab": {
      "provenance": []
    },
    "kernelspec": {
      "name": "python3",
      "display_name": "Python 3"
    },
    "language_info": {
      "name": "python"
    }
  },
  "cells": [
    {
      "cell_type": "code",
      "execution_count": 1,
      "metadata": {
        "colab": {
          "base_uri": "https://localhost:8080/"
        },
        "id": "15cDKQs76cXO",
        "outputId": "1ed2def5-20f3-4633-b37d-569da6762c5b"
      },
      "outputs": [
        {
          "output_type": "stream",
          "name": "stdout",
          "text": [
            "Original Data:\n",
            "    A    B  C   D\n",
            "0  1  0.1  2  10\n",
            "1  1  0.1  2  11\n",
            "2  1  0.1  3  10\n",
            "3  1  0.1  4  10\n",
            "4  1  0.1  5  11\n",
            "\n",
            "Selected Features with Variance above 0.1 :\n",
            " Index(['C', 'D'], dtype='object')\n",
            "\n",
            "Reduced Data:\n",
            "    C   D\n",
            "0  2  10\n",
            "1  2  11\n",
            "2  3  10\n",
            "3  4  10\n",
            "4  5  11\n"
          ]
        }
      ],
      "source": [
        "import pandas as pd\n",
        "from sklearn.feature_selection import VarianceThreshold\n",
        "\n",
        "# Sample dataset\n",
        "data = {\n",
        "    'A': [1, 1, 1, 1, 1],\n",
        "    'B': [0.1, 0.1, 0.1, 0.1, 0.1],\n",
        "    'C': [2, 2, 3, 4, 5],\n",
        "    'D': [10, 11, 10, 10, 11]\n",
        "}\n",
        "\n",
        "# Convert to DataFrame\n",
        "df = pd.DataFrame(data)\n",
        "\n",
        "# Set variance threshold (e.g., 0.1)\n",
        "threshold = 0.1\n",
        "selector = VarianceThreshold(threshold=threshold)\n",
        "\n",
        "# Fit selector to data\n",
        "selector.fit(df)\n",
        "\n",
        "# Get the columns that pass the variance threshold\n",
        "selected_features = df.columns[selector.get_support()]\n",
        "\n",
        "# Create a new DataFrame with only the selected features\n",
        "df_reduced = df[selected_features]\n",
        "\n",
        "# Display the original and reduced data\n",
        "print(\"Original Data:\\n\", df)\n",
        "print(\"\\nSelected Features with Variance above\", threshold, \":\\n\", selected_features)\n",
        "print(\"\\nReduced Data:\\n\", df_reduced)\n"
      ]
    }
  ]
}